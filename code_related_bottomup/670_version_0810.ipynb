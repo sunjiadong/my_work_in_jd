{
 "cells": [
  {
   "cell_type": "code",
   "execution_count": 1,
   "metadata": {},
   "outputs": [],
   "source": [
    "import pandas as pd\n",
    "import numpy as np"
   ]
  },
  {
   "cell_type": "code",
   "execution_count": 2,
   "metadata": {},
   "outputs": [],
   "source": [
    "df_b = pd.read_csv('./result_670/bup_online_compare_0508_step7.csv')"
   ]
  },
  {
   "cell_type": "code",
   "execution_count": 3,
   "metadata": {},
   "outputs": [
    {
     "data": {
      "text/plain": [
       "(4096, 15)"
      ]
     },
     "execution_count": 3,
     "metadata": {},
     "output_type": "execute_result"
    }
   ],
   "source": [
    "df_b.shape"
   ]
  },
  {
   "cell_type": "code",
   "execution_count": 4,
   "metadata": {},
   "outputs": [
    {
     "data": {
      "text/html": [
       "<div>\n",
       "<style scoped>\n",
       "    .dataframe tbody tr th:only-of-type {\n",
       "        vertical-align: middle;\n",
       "    }\n",
       "\n",
       "    .dataframe tbody tr th {\n",
       "        vertical-align: top;\n",
       "    }\n",
       "\n",
       "    .dataframe thead th {\n",
       "        text-align: right;\n",
       "    }\n",
       "</style>\n",
       "<table border=\"1\" class=\"dataframe\">\n",
       "  <thead>\n",
       "    <tr style=\"text-align: right;\">\n",
       "      <th></th>\n",
       "      <th>wid</th>\n",
       "      <th>dcid</th>\n",
       "      <th>model</th>\n",
       "      <th>fbd</th>\n",
       "      <th>fds</th>\n",
       "      <th>asales</th>\n",
       "      <th>fsales</th>\n",
       "      <th>vendibilitydays</th>\n",
       "      <th>cate3</th>\n",
       "      <th>salesband</th>\n",
       "      <th>dt</th>\n",
       "      <th>RDCKey</th>\n",
       "      <th>ProductKey</th>\n",
       "      <th>ypred_raw</th>\n",
       "      <th>salesForecast</th>\n",
       "    </tr>\n",
       "  </thead>\n",
       "  <tbody>\n",
       "    <tr>\n",
       "      <th>0</th>\n",
       "      <td>6932125</td>\n",
       "      <td>10</td>\n",
       "      <td>intercept_lr_model_id</td>\n",
       "      <td>2018-05-08</td>\n",
       "      <td>7</td>\n",
       "      <td>2.0</td>\n",
       "      <td>2.156000</td>\n",
       "      <td>7</td>\n",
       "      <td>736</td>\n",
       "      <td>E</td>\n",
       "      <td>2018-05-08</td>\n",
       "      <td>10.0</td>\n",
       "      <td>6932125.0</td>\n",
       "      <td>1.529359</td>\n",
       "      <td>2.0</td>\n",
       "    </tr>\n",
       "    <tr>\n",
       "      <th>1</th>\n",
       "      <td>929931</td>\n",
       "      <td>9</td>\n",
       "      <td>lr_model_id</td>\n",
       "      <td>2018-05-08</td>\n",
       "      <td>7</td>\n",
       "      <td>0.0</td>\n",
       "      <td>0.000000</td>\n",
       "      <td>7</td>\n",
       "      <td>736</td>\n",
       "      <td>F</td>\n",
       "      <td>2018-05-08</td>\n",
       "      <td>9.0</td>\n",
       "      <td>929931.0</td>\n",
       "      <td>0.113980</td>\n",
       "      <td>0.0</td>\n",
       "    </tr>\n",
       "    <tr>\n",
       "      <th>2</th>\n",
       "      <td>929931</td>\n",
       "      <td>4</td>\n",
       "      <td>lr_model_id</td>\n",
       "      <td>2018-05-08</td>\n",
       "      <td>7</td>\n",
       "      <td>0.0</td>\n",
       "      <td>0.000000</td>\n",
       "      <td>7</td>\n",
       "      <td>736</td>\n",
       "      <td>F</td>\n",
       "      <td>2018-05-08</td>\n",
       "      <td>4.0</td>\n",
       "      <td>929931.0</td>\n",
       "      <td>0.190791</td>\n",
       "      <td>0.0</td>\n",
       "    </tr>\n",
       "    <tr>\n",
       "      <th>3</th>\n",
       "      <td>1195224</td>\n",
       "      <td>9</td>\n",
       "      <td>lr_model_id</td>\n",
       "      <td>2018-05-08</td>\n",
       "      <td>7</td>\n",
       "      <td>0.0</td>\n",
       "      <td>1.797853</td>\n",
       "      <td>7</td>\n",
       "      <td>736</td>\n",
       "      <td>F</td>\n",
       "      <td>2018-05-08</td>\n",
       "      <td>9.0</td>\n",
       "      <td>1195224.0</td>\n",
       "      <td>1.223879</td>\n",
       "      <td>0.0</td>\n",
       "    </tr>\n",
       "    <tr>\n",
       "      <th>4</th>\n",
       "      <td>1195224</td>\n",
       "      <td>316</td>\n",
       "      <td>lr_model_id</td>\n",
       "      <td>2018-05-08</td>\n",
       "      <td>7</td>\n",
       "      <td>2.0</td>\n",
       "      <td>2.509512</td>\n",
       "      <td>7</td>\n",
       "      <td>736</td>\n",
       "      <td>E</td>\n",
       "      <td>2018-05-08</td>\n",
       "      <td>316.0</td>\n",
       "      <td>1195224.0</td>\n",
       "      <td>1.139005</td>\n",
       "      <td>2.0</td>\n",
       "    </tr>\n",
       "  </tbody>\n",
       "</table>\n",
       "</div>"
      ],
      "text/plain": [
       "       wid  dcid                  model         fbd  fds  asales    fsales  \\\n",
       "0  6932125    10  intercept_lr_model_id  2018-05-08    7     2.0  2.156000   \n",
       "1   929931     9            lr_model_id  2018-05-08    7     0.0  0.000000   \n",
       "2   929931     4            lr_model_id  2018-05-08    7     0.0  0.000000   \n",
       "3  1195224     9            lr_model_id  2018-05-08    7     0.0  1.797853   \n",
       "4  1195224   316            lr_model_id  2018-05-08    7     2.0  2.509512   \n",
       "\n",
       "   vendibilitydays  cate3 salesband          dt  RDCKey  ProductKey  \\\n",
       "0                7    736         E  2018-05-08    10.0   6932125.0   \n",
       "1                7    736         F  2018-05-08     9.0    929931.0   \n",
       "2                7    736         F  2018-05-08     4.0    929931.0   \n",
       "3                7    736         F  2018-05-08     9.0   1195224.0   \n",
       "4                7    736         E  2018-05-08   316.0   1195224.0   \n",
       "\n",
       "   ypred_raw  salesForecast  \n",
       "0   1.529359            2.0  \n",
       "1   0.113980            0.0  \n",
       "2   0.190791            0.0  \n",
       "3   1.223879            0.0  \n",
       "4   1.139005            2.0  "
      ]
     },
     "execution_count": 4,
     "metadata": {},
     "output_type": "execute_result"
    }
   ],
   "source": [
    "df_b.head()"
   ]
  },
  {
   "cell_type": "code",
   "execution_count": 5,
   "metadata": {},
   "outputs": [
    {
     "data": {
      "text/plain": [
       "array([736])"
      ]
     },
     "execution_count": 5,
     "metadata": {},
     "output_type": "execute_result"
    }
   ],
   "source": [
    "df_b.cate3.unique()"
   ]
  },
  {
   "cell_type": "code",
   "execution_count": 5,
   "metadata": {},
   "outputs": [],
   "source": [
    "df_l = pd.read_csv('./result_670/transfer_test_result_736_0508-step28.csv')"
   ]
  },
  {
   "cell_type": "code",
   "execution_count": 6,
   "metadata": {},
   "outputs": [
    {
     "data": {
      "text/plain": [
       "(197176, 8)"
      ]
     },
     "execution_count": 6,
     "metadata": {},
     "output_type": "execute_result"
    }
   ],
   "source": [
    "df_l.shape"
   ]
  },
  {
   "cell_type": "code",
   "execution_count": 7,
   "metadata": {},
   "outputs": [
    {
     "data": {
      "text/html": [
       "<div>\n",
       "<style scoped>\n",
       "    .dataframe tbody tr th:only-of-type {\n",
       "        vertical-align: middle;\n",
       "    }\n",
       "\n",
       "    .dataframe tbody tr th {\n",
       "        vertical-align: top;\n",
       "    }\n",
       "\n",
       "    .dataframe thead th {\n",
       "        text-align: right;\n",
       "    }\n",
       "</style>\n",
       "<table border=\"1\" class=\"dataframe\">\n",
       "  <thead>\n",
       "    <tr style=\"text-align: right;\">\n",
       "      <th></th>\n",
       "      <th>Date</th>\n",
       "      <th>RDCKey</th>\n",
       "      <th>ProductKey</th>\n",
       "      <th>ypred</th>\n",
       "      <th>model_2_ypred</th>\n",
       "      <th>sales</th>\n",
       "      <th>salesForecast</th>\n",
       "      <th>ensemble</th>\n",
       "    </tr>\n",
       "  </thead>\n",
       "  <tbody>\n",
       "    <tr>\n",
       "      <th>0</th>\n",
       "      <td>2018-05-08</td>\n",
       "      <td>3.0</td>\n",
       "      <td>127768</td>\n",
       "      <td>386.14040</td>\n",
       "      <td>291.925724</td>\n",
       "      <td>304.0</td>\n",
       "      <td>304.0</td>\n",
       "      <td>332.487686</td>\n",
       "    </tr>\n",
       "    <tr>\n",
       "      <th>1</th>\n",
       "      <td>2018-05-09</td>\n",
       "      <td>3.0</td>\n",
       "      <td>127768</td>\n",
       "      <td>386.14040</td>\n",
       "      <td>435.933684</td>\n",
       "      <td>217.0</td>\n",
       "      <td>217.0</td>\n",
       "      <td>409.529056</td>\n",
       "    </tr>\n",
       "    <tr>\n",
       "      <th>2</th>\n",
       "      <td>2018-05-10</td>\n",
       "      <td>3.0</td>\n",
       "      <td>127768</td>\n",
       "      <td>358.15082</td>\n",
       "      <td>354.450006</td>\n",
       "      <td>31.0</td>\n",
       "      <td>29.0</td>\n",
       "      <td>356.290807</td>\n",
       "    </tr>\n",
       "    <tr>\n",
       "      <th>3</th>\n",
       "      <td>2018-05-11</td>\n",
       "      <td>3.0</td>\n",
       "      <td>127768</td>\n",
       "      <td>148.93347</td>\n",
       "      <td>209.619713</td>\n",
       "      <td>7.0</td>\n",
       "      <td>7.0</td>\n",
       "      <td>174.140925</td>\n",
       "    </tr>\n",
       "    <tr>\n",
       "      <th>4</th>\n",
       "      <td>2018-05-12</td>\n",
       "      <td>3.0</td>\n",
       "      <td>127768</td>\n",
       "      <td>113.28675</td>\n",
       "      <td>104.959811</td>\n",
       "      <td>3.0</td>\n",
       "      <td>3.0</td>\n",
       "      <td>108.964430</td>\n",
       "    </tr>\n",
       "  </tbody>\n",
       "</table>\n",
       "</div>"
      ],
      "text/plain": [
       "         Date  RDCKey  ProductKey      ypred  model_2_ypred  sales  \\\n",
       "0  2018-05-08     3.0      127768  386.14040     291.925724  304.0   \n",
       "1  2018-05-09     3.0      127768  386.14040     435.933684  217.0   \n",
       "2  2018-05-10     3.0      127768  358.15082     354.450006   31.0   \n",
       "3  2018-05-11     3.0      127768  148.93347     209.619713    7.0   \n",
       "4  2018-05-12     3.0      127768  113.28675     104.959811    3.0   \n",
       "\n",
       "   salesForecast    ensemble  \n",
       "0          304.0  332.487686  \n",
       "1          217.0  409.529056  \n",
       "2           29.0  356.290807  \n",
       "3            7.0  174.140925  \n",
       "4            3.0  108.964430  "
      ]
     },
     "execution_count": 7,
     "metadata": {},
     "output_type": "execute_result"
    }
   ],
   "source": [
    "df_l.head()"
   ]
  },
  {
   "cell_type": "code",
   "execution_count": 8,
   "metadata": {},
   "outputs": [],
   "source": [
    "df = df_l[df_l.Date <= '2018-05-14']"
   ]
  },
  {
   "cell_type": "code",
   "execution_count": 9,
   "metadata": {},
   "outputs": [
    {
     "data": {
      "text/plain": [
       "(49294, 8)"
      ]
     },
     "execution_count": 9,
     "metadata": {},
     "output_type": "execute_result"
    }
   ],
   "source": [
    "df.shape"
   ]
  },
  {
   "cell_type": "code",
   "execution_count": 10,
   "metadata": {},
   "outputs": [],
   "source": [
    "df1 = df.groupby(['RDCKey','ProductKey']).sum().reset_index()"
   ]
  },
  {
   "cell_type": "code",
   "execution_count": 11,
   "metadata": {},
   "outputs": [
    {
     "data": {
      "text/plain": [
       "(7042, 7)"
      ]
     },
     "execution_count": 11,
     "metadata": {},
     "output_type": "execute_result"
    }
   ],
   "source": [
    "df1.shape"
   ]
  },
  {
   "cell_type": "code",
   "execution_count": 12,
   "metadata": {},
   "outputs": [
    {
     "data": {
      "text/html": [
       "<div>\n",
       "<style scoped>\n",
       "    .dataframe tbody tr th:only-of-type {\n",
       "        vertical-align: middle;\n",
       "    }\n",
       "\n",
       "    .dataframe tbody tr th {\n",
       "        vertical-align: top;\n",
       "    }\n",
       "\n",
       "    .dataframe thead th {\n",
       "        text-align: right;\n",
       "    }\n",
       "</style>\n",
       "<table border=\"1\" class=\"dataframe\">\n",
       "  <thead>\n",
       "    <tr style=\"text-align: right;\">\n",
       "      <th></th>\n",
       "      <th>RDCKey</th>\n",
       "      <th>ProductKey</th>\n",
       "      <th>ypred</th>\n",
       "      <th>model_2_ypred</th>\n",
       "      <th>sales</th>\n",
       "      <th>salesForecast</th>\n",
       "      <th>ensemble</th>\n",
       "    </tr>\n",
       "  </thead>\n",
       "  <tbody>\n",
       "    <tr>\n",
       "      <th>0</th>\n",
       "      <td>3.0</td>\n",
       "      <td>127768</td>\n",
       "      <td>1896.243790</td>\n",
       "      <td>1956.718752</td>\n",
       "      <td>590.0</td>\n",
       "      <td>588.0</td>\n",
       "      <td>1910.310166</td>\n",
       "    </tr>\n",
       "    <tr>\n",
       "      <th>1</th>\n",
       "      <td>3.0</td>\n",
       "      <td>163890</td>\n",
       "      <td>9.545874</td>\n",
       "      <td>9.318132</td>\n",
       "      <td>20.0</td>\n",
       "      <td>20.0</td>\n",
       "      <td>9.384403</td>\n",
       "    </tr>\n",
       "    <tr>\n",
       "      <th>2</th>\n",
       "      <td>3.0</td>\n",
       "      <td>189018</td>\n",
       "      <td>2.500754</td>\n",
       "      <td>5.277123</td>\n",
       "      <td>3.0</td>\n",
       "      <td>3.0</td>\n",
       "      <td>3.320952</td>\n",
       "    </tr>\n",
       "    <tr>\n",
       "      <th>3</th>\n",
       "      <td>3.0</td>\n",
       "      <td>189019</td>\n",
       "      <td>1.109161</td>\n",
       "      <td>1.392299</td>\n",
       "      <td>1.0</td>\n",
       "      <td>1.0</td>\n",
       "      <td>1.225706</td>\n",
       "    </tr>\n",
       "    <tr>\n",
       "      <th>4</th>\n",
       "      <td>3.0</td>\n",
       "      <td>189028</td>\n",
       "      <td>8.564203</td>\n",
       "      <td>11.239456</td>\n",
       "      <td>4.0</td>\n",
       "      <td>4.0</td>\n",
       "      <td>9.630726</td>\n",
       "    </tr>\n",
       "  </tbody>\n",
       "</table>\n",
       "</div>"
      ],
      "text/plain": [
       "   RDCKey  ProductKey        ypred  model_2_ypred  sales  salesForecast  \\\n",
       "0     3.0      127768  1896.243790    1956.718752  590.0          588.0   \n",
       "1     3.0      163890     9.545874       9.318132   20.0           20.0   \n",
       "2     3.0      189018     2.500754       5.277123    3.0            3.0   \n",
       "3     3.0      189019     1.109161       1.392299    1.0            1.0   \n",
       "4     3.0      189028     8.564203      11.239456    4.0            4.0   \n",
       "\n",
       "      ensemble  \n",
       "0  1910.310166  \n",
       "1     9.384403  \n",
       "2     3.320952  \n",
       "3     1.225706  \n",
       "4     9.630726  "
      ]
     },
     "execution_count": 12,
     "metadata": {},
     "output_type": "execute_result"
    }
   ],
   "source": [
    "df1.head()"
   ]
  },
  {
   "cell_type": "code",
   "execution_count": 13,
   "metadata": {},
   "outputs": [],
   "source": [
    "df2 = pd.merge(df_b, df1, how='left', on=['ProductKey','RDCKey','salesForecast'])"
   ]
  },
  {
   "cell_type": "code",
   "execution_count": 14,
   "metadata": {},
   "outputs": [
    {
     "data": {
      "text/plain": [
       "(4096, 19)"
      ]
     },
     "execution_count": 14,
     "metadata": {},
     "output_type": "execute_result"
    }
   ],
   "source": [
    "df2.shape"
   ]
  },
  {
   "cell_type": "code",
   "execution_count": 15,
   "metadata": {},
   "outputs": [
    {
     "data": {
      "text/html": [
       "<div>\n",
       "<style scoped>\n",
       "    .dataframe tbody tr th:only-of-type {\n",
       "        vertical-align: middle;\n",
       "    }\n",
       "\n",
       "    .dataframe tbody tr th {\n",
       "        vertical-align: top;\n",
       "    }\n",
       "\n",
       "    .dataframe thead th {\n",
       "        text-align: right;\n",
       "    }\n",
       "</style>\n",
       "<table border=\"1\" class=\"dataframe\">\n",
       "  <thead>\n",
       "    <tr style=\"text-align: right;\">\n",
       "      <th></th>\n",
       "      <th>wid</th>\n",
       "      <th>dcid</th>\n",
       "      <th>model</th>\n",
       "      <th>fbd</th>\n",
       "      <th>fds</th>\n",
       "      <th>asales</th>\n",
       "      <th>fsales</th>\n",
       "      <th>vendibilitydays</th>\n",
       "      <th>cate3</th>\n",
       "      <th>salesband</th>\n",
       "      <th>dt</th>\n",
       "      <th>RDCKey</th>\n",
       "      <th>ProductKey</th>\n",
       "      <th>ypred_raw</th>\n",
       "      <th>salesForecast</th>\n",
       "      <th>ypred</th>\n",
       "      <th>model_2_ypred</th>\n",
       "      <th>sales</th>\n",
       "      <th>ensemble</th>\n",
       "    </tr>\n",
       "  </thead>\n",
       "  <tbody>\n",
       "    <tr>\n",
       "      <th>0</th>\n",
       "      <td>6932125</td>\n",
       "      <td>10</td>\n",
       "      <td>intercept_lr_model_id</td>\n",
       "      <td>2018-05-08</td>\n",
       "      <td>7</td>\n",
       "      <td>2.0</td>\n",
       "      <td>2.156000</td>\n",
       "      <td>7</td>\n",
       "      <td>736</td>\n",
       "      <td>E</td>\n",
       "      <td>2018-05-08</td>\n",
       "      <td>10.0</td>\n",
       "      <td>6.93212e+06</td>\n",
       "      <td>1.529359</td>\n",
       "      <td>2.0</td>\n",
       "      <td>1.630960</td>\n",
       "      <td>1.413495</td>\n",
       "      <td>2.0</td>\n",
       "      <td>1.479321</td>\n",
       "    </tr>\n",
       "    <tr>\n",
       "      <th>1</th>\n",
       "      <td>929931</td>\n",
       "      <td>9</td>\n",
       "      <td>lr_model_id</td>\n",
       "      <td>2018-05-08</td>\n",
       "      <td>7</td>\n",
       "      <td>0.0</td>\n",
       "      <td>0.000000</td>\n",
       "      <td>7</td>\n",
       "      <td>736</td>\n",
       "      <td>F</td>\n",
       "      <td>2018-05-08</td>\n",
       "      <td>9.0</td>\n",
       "      <td>929931</td>\n",
       "      <td>0.113980</td>\n",
       "      <td>0.0</td>\n",
       "      <td>0.126004</td>\n",
       "      <td>1.047922</td>\n",
       "      <td>0.0</td>\n",
       "      <td>0.223177</td>\n",
       "    </tr>\n",
       "    <tr>\n",
       "      <th>2</th>\n",
       "      <td>929931</td>\n",
       "      <td>4</td>\n",
       "      <td>lr_model_id</td>\n",
       "      <td>2018-05-08</td>\n",
       "      <td>7</td>\n",
       "      <td>0.0</td>\n",
       "      <td>0.000000</td>\n",
       "      <td>7</td>\n",
       "      <td>736</td>\n",
       "      <td>F</td>\n",
       "      <td>2018-05-08</td>\n",
       "      <td>4.0</td>\n",
       "      <td>929931</td>\n",
       "      <td>0.190791</td>\n",
       "      <td>0.0</td>\n",
       "      <td>0.229780</td>\n",
       "      <td>0.988850</td>\n",
       "      <td>0.0</td>\n",
       "      <td>0.367644</td>\n",
       "    </tr>\n",
       "    <tr>\n",
       "      <th>3</th>\n",
       "      <td>1195224</td>\n",
       "      <td>9</td>\n",
       "      <td>lr_model_id</td>\n",
       "      <td>2018-05-08</td>\n",
       "      <td>7</td>\n",
       "      <td>0.0</td>\n",
       "      <td>1.797853</td>\n",
       "      <td>7</td>\n",
       "      <td>736</td>\n",
       "      <td>F</td>\n",
       "      <td>2018-05-08</td>\n",
       "      <td>9.0</td>\n",
       "      <td>1.19522e+06</td>\n",
       "      <td>1.223879</td>\n",
       "      <td>0.0</td>\n",
       "      <td>0.908958</td>\n",
       "      <td>0.809936</td>\n",
       "      <td>0.0</td>\n",
       "      <td>0.821542</td>\n",
       "    </tr>\n",
       "    <tr>\n",
       "      <th>4</th>\n",
       "      <td>1195224</td>\n",
       "      <td>316</td>\n",
       "      <td>lr_model_id</td>\n",
       "      <td>2018-05-08</td>\n",
       "      <td>7</td>\n",
       "      <td>2.0</td>\n",
       "      <td>2.509512</td>\n",
       "      <td>7</td>\n",
       "      <td>736</td>\n",
       "      <td>E</td>\n",
       "      <td>2018-05-08</td>\n",
       "      <td>316.0</td>\n",
       "      <td>1.19522e+06</td>\n",
       "      <td>1.139005</td>\n",
       "      <td>2.0</td>\n",
       "      <td>1.127578</td>\n",
       "      <td>1.113272</td>\n",
       "      <td>2.0</td>\n",
       "      <td>1.002888</td>\n",
       "    </tr>\n",
       "  </tbody>\n",
       "</table>\n",
       "</div>"
      ],
      "text/plain": [
       "       wid  dcid                  model         fbd  fds  asales    fsales  \\\n",
       "0  6932125    10  intercept_lr_model_id  2018-05-08    7     2.0  2.156000   \n",
       "1   929931     9            lr_model_id  2018-05-08    7     0.0  0.000000   \n",
       "2   929931     4            lr_model_id  2018-05-08    7     0.0  0.000000   \n",
       "3  1195224     9            lr_model_id  2018-05-08    7     0.0  1.797853   \n",
       "4  1195224   316            lr_model_id  2018-05-08    7     2.0  2.509512   \n",
       "\n",
       "   vendibilitydays  cate3 salesband          dt  RDCKey   ProductKey  \\\n",
       "0                7    736         E  2018-05-08    10.0  6.93212e+06   \n",
       "1                7    736         F  2018-05-08     9.0       929931   \n",
       "2                7    736         F  2018-05-08     4.0       929931   \n",
       "3                7    736         F  2018-05-08     9.0  1.19522e+06   \n",
       "4                7    736         E  2018-05-08   316.0  1.19522e+06   \n",
       "\n",
       "   ypred_raw  salesForecast     ypred  model_2_ypred  sales  ensemble  \n",
       "0   1.529359            2.0  1.630960       1.413495    2.0  1.479321  \n",
       "1   0.113980            0.0  0.126004       1.047922    0.0  0.223177  \n",
       "2   0.190791            0.0  0.229780       0.988850    0.0  0.367644  \n",
       "3   1.223879            0.0  0.908958       0.809936    0.0  0.821542  \n",
       "4   1.139005            2.0  1.127578       1.113272    2.0  1.002888  "
      ]
     },
     "execution_count": 15,
     "metadata": {},
     "output_type": "execute_result"
    }
   ],
   "source": [
    "df2.head()"
   ]
  },
  {
   "cell_type": "code",
   "execution_count": 18,
   "metadata": {},
   "outputs": [
    {
     "name": "stdout",
     "output_type": "stream",
     "text": [
      "274082.83252601494\n",
      "0.27091324921562615\n",
      "283448.86789599096\n",
      "0.26378087154976454\n",
      "283116.68126170215\n",
      "0.26374950484411336\n",
      "293802.0\n",
      "218843.0118420045\n",
      "261413.82115483301\n",
      "305483.91463714896\n",
      "252068.19817928594\n",
      "\n",
      "\n",
      "0.3743037158219498\n",
      "0.2900279632137051\n",
      "0.3014032072711533\n",
      "0.32032265378501634\n",
      "\n",
      "\n"
     ]
    }
   ],
   "source": [
    "df2['final_ensemble'] = 2 / ( 1 / df2.ypred_raw + 1 / df2.model_2_ypred)\n",
    "\n",
    "df2['final_ensemble_2'] = (df2.ypred_raw + df2.model_2_ypred) / 2\n",
    "\n",
    "df2['final_ensemble_3'] = (0.303/(0.294+0.303)) * df2.ypred_raw + (0.294/(0.294+0.303)) * df2.model_2_ypred\n",
    "\n",
    "df2.head()\n",
    "\n",
    "print df2.final_ensemble.sum()\n",
    "print np.sum(np.abs(df2.final_ensemble - df2.salesForecast)) / np.sum(df2.salesForecast)\n",
    "#print np.sum(np.abs(df2.final_ensemble - df2.asales)) / np.sum(df2.asales)\n",
    "\n",
    "print df2.final_ensemble_2.sum()\n",
    "print np.sum(np.abs(df2.final_ensemble_2 - df2.salesForecast)) / np.sum(df2.salesForecast)\n",
    "#print np.sum(np.abs(df2.final_ensemble_2 - df2.asales)) / np.sum(df2.asales)\n",
    "\n",
    "print df2.final_ensemble_3.sum()\n",
    "print np.sum(np.abs(df2.final_ensemble_3 - df2.salesForecast)) / np.sum(df2.salesForecast)\n",
    "#print np.sum(np.abs(df2.final_ensemble_3 - df2.asales)) / np.sum(df2.asales)\n",
    "\n",
    "#print df2.asales.sum()\n",
    "print df2.salesForecast.sum()\n",
    "print df2.fsales.sum()\n",
    "print df2.ypred_raw.sum()\n",
    "print df2.model_2_ypred.sum()\n",
    "print df2.ensemble.sum()\n",
    "print \"\\n\"\n",
    "print np.sum(np.abs(df2.fsales - df2.salesForecast)) / np.sum(df2.salesForecast)\n",
    "print np.sum(np.abs(df2.ypred_raw - df2.salesForecast)) / np.sum(df2.salesForecast)\n",
    "print np.sum(np.abs(df2.model_2_ypred - df2.salesForecast)) / np.sum(df2.salesForecast)\n",
    "print np.sum(np.abs(df2.ensemble - df2.salesForecast)) / np.sum(df2.salesForecast)\n",
    "print \"\\n\"\n",
    "#print np.sum(np.abs(df2.fsales - df2.asales)) / np.sum(df2.asales)\n",
    "#print np.sum(np.abs(df2.ypred_raw - df2.asales)) / np.sum(df2.asales)\n",
    "#print np.sum(np.abs(df2.model_2_ypred - df2.asales)) / np.sum(df2.asales)\n",
    "#rint np.sum(np.abs(df2.ensemble - df2.asales)) / np.sum(df2.asales)\n",
    "\n"
   ]
  },
  {
   "cell_type": "code",
   "execution_count": null,
   "metadata": {},
   "outputs": [],
   "source": []
  }
 ],
 "metadata": {
  "kernelspec": {
   "display_name": "Python 2",
   "language": "python",
   "name": "python2"
  },
  "language_info": {
   "codemirror_mode": {
    "name": "ipython",
    "version": 2
   },
   "file_extension": ".py",
   "mimetype": "text/x-python",
   "name": "python",
   "nbconvert_exporter": "python",
   "pygments_lexer": "ipython2",
   "version": "2.7.14"
  }
 },
 "nbformat": 4,
 "nbformat_minor": 2
}
