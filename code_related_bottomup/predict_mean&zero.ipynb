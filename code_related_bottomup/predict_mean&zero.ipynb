{
 "cells": [
  {
   "cell_type": "code",
   "execution_count": 1,
   "metadata": {},
   "outputs": [
    {
     "name": "stderr",
     "output_type": "stream",
     "text": [
      "/home/ubuntu/lijingjie/ljj/local/lib/python2.7/site-packages/statsmodels/compat/pandas.py:56: FutureWarning: The pandas.core.datetools module is deprecated and will be removed in a future version. Please use the pandas.tseries module instead.\n",
      "  from pandas.core import datetools\n"
     ]
    }
   ],
   "source": [
    "import warnings\n",
    "import os.path\n",
    "from code.refactor.common import (get_setting_from_cfg, get_setting_path, filter_df_by_cate_id,get_future_sales_feature,\\\n",
    "                                  dummy_features, model_predict, get_weekly_df,get_future_condition_sales_feature,gen_train_valid_by_date,\\\n",
    "                                  generate_promotion_future, get_hour, save_object, add_pv,get_lowest_n,generate_cv_train_valid_set,\\\n",
    "                                  generate_default_values_by_dic,fill_col_with_default, week2month,trans_band_to_int,get_future_condition_sales_feature_stage2,\\\n",
    "                                  loadSettingsFromYamlFile,createSeasonalityFeatures,createLevel3Features,createSeasonalityDecomposeFeatures,\\\n",
    "                                 calculateNationalRolling,calculateRolling,calculateLagging,createDateFeatures,splitTimeWindow,calculateSimilarRolling,calculateStockFeatures,\\\n",
    "                                 process_rdc,clean_data,add_cols,get_dd_price,agg_dd_price,get_bundle_feat,agg_bd_price,process_feature,\\\n",
    "                                 agg_feature,prep_data,calc_weighted_price,agg_feature_day,get_column_by_type,object2Float,object2Int)\n",
    "from code.refactor.fdc_flow import  filter_non_price_fill_it\n",
    "import pandas as pd\n",
    "import xgboost as xgb\n",
    "import numpy as np\n",
    "import datetime\n",
    "warnings.filterwarnings(\"ignore\", category=DeprecationWarning)\n"
   ]
  },
  {
   "cell_type": "code",
   "execution_count": 7,
   "metadata": {},
   "outputs": [],
   "source": [
    "import pickle\n",
    "scenarioSettingsPath = 'code/refactor/ow_scenario.yaml'\n",
    "scenario = loadSettingsFromYamlFile(scenarioSettingsPath)\n",
    "\n",
    "#scenario['lookforwardPeriodDays'] = 1\n",
    "#scenario['use_cart_feature'] = False\n",
    "#scenario['use_promo_features'] = False\n",
    "path = 'tmp/data/shishang'\n",
    "result_path = 'tmp/data/shishang'\n"
   ]
  },
  {
   "cell_type": "code",
   "execution_count": 8,
   "metadata": {},
   "outputs": [
    {
     "data": {
      "text/plain": [
       "<module 'predict_mean_zero' from 'predict_mean_zero.pyc'>"
      ]
     },
     "execution_count": 8,
     "metadata": {},
     "output_type": "execute_result"
    }
   ],
   "source": [
    "cate_list = [2589,12029,2584]  ##2589,12029,2584\n",
    "holidays_df=pd.read_csv('/home/ubuntu/yulong/promotion_offline/tmp/ow_deploy_single/holidays.csv')\n",
    "area_rdc_map = pd.read_csv('/home/ubuntu/yulong/promotion_offline/tmp/ow_deploy_single/area_rdc_mapping.csv')\n",
    "import predict_mean\n",
    "reload (predict_mean_zero)"
   ]
  },
  {
   "cell_type": "code",
   "execution_count": 6,
   "metadata": {},
   "outputs": [
    {
     "name": "stdout",
     "output_type": "stream",
     "text": [
      "tmp/data/shishang/2589/2589_train_feature.csv\n"
     ]
    }
   ],
   "source": [
    "cate = 2589\n",
    "print os.path.join(result_path, str(cate) + '/' + str(cate) + '_train_feature.csv')"
   ]
  },
  {
   "cell_type": "code",
   "execution_count": 9,
   "metadata": {},
   "outputs": [
    {
     "name": "stderr",
     "output_type": "stream",
     "text": [
      "/home/ubuntu/lijingjie/ljj/local/lib/python2.7/site-packages/IPython/core/interactiveshell.py:2718: DtypeWarning: Columns (38) have mixed types. Specify dtype option on import or set low_memory=False.\n",
      "  interactivity=interactivity, compiler=compiler, result=result)\n"
     ]
    },
    {
     "name": "stdout",
     "output_type": "stream",
     "text": [
      "2018-04-01 00:00:00\n"
     ]
    },
    {
     "name": "stderr",
     "output_type": "stream",
     "text": [
      "predict_mean_zero.py:46: SettingWithCopyWarning: \n",
      "A value is trying to be set on a copy of a slice from a DataFrame\n",
      "\n",
      "See the caveats in the documentation: http://pandas.pydata.org/pandas-docs/stable/indexing.html#indexing-view-versus-copy\n",
      "  ts_df.replace('null', np.nan, inplace=True)\n",
      "predict_mean_zero.py:47: SettingWithCopyWarning: \n",
      "A value is trying to be set on a copy of a slice from a DataFrame\n",
      "\n",
      "See the caveats in the documentation: http://pandas.pydata.org/pandas-docs/stable/indexing.html#indexing-view-versus-copy\n",
      "  ts_df.replace(-999, np.nan, inplace=True)\n",
      "predict_mean_zero.py:48: SettingWithCopyWarning: \n",
      "A value is trying to be set on a copy of a slice from a DataFrame\n",
      "\n",
      "See the caveats in the documentation: http://pandas.pydata.org/pandas-docs/stable/indexing.html#indexing-view-versus-copy\n",
      "  ts_df.replace('None', np.nan, inplace=True)\n"
     ]
    },
    {
     "name": "stdout",
     "output_type": "stream",
     "text": [
      "convert to Int columns:\n",
      "Holiday\n",
      "convert to Int columns:\n",
      "Ind_1111_pre\n",
      "convert to Int columns:\n",
      "Ind_1111\n",
      "convert to Int columns:\n",
      "Ind_1111_post\n",
      "convert to Int columns:\n",
      "Ind_618_pre\n",
      "convert to Int columns:\n",
      "Ind_618\n",
      "convert to Int columns:\n",
      "Ind_618_post\n",
      "convert to Int columns:\n",
      "Ind_1212\n",
      "convert to Float columns:\n",
      "MaxSyntheticDiscountA\n",
      "convert to Float columns:\n",
      "MinSyntheticDiscountA\n",
      "convert to Float columns:\n",
      "AvgSyntheticDiscountA\n",
      "convert to Float columns:\n",
      "SyntheticGrossPrice\n",
      "convert to Float columns:\n",
      "promotionkey\n",
      "convert to Float columns:\n",
      "promotiontype\n",
      "convert to Float columns:\n",
      "promotionsubtype\n",
      "convert to Float columns:\n",
      "syntheticgrossprice_vb\n",
      "convert to Float columns:\n",
      "jdprice\n",
      "convert to Float columns:\n",
      "syntheticdiscounta_vb\n",
      "convert to Float columns:\n",
      "durationinhours\n",
      "convert to Float columns:\n",
      "daynumberinpromotion\n",
      "convert to Float columns:\n",
      "bundleflag\n",
      "convert to Float columns:\n",
      "directdiscountflag\n",
      "convert to Float columns:\n",
      "freegiftflag\n",
      "convert to Float columns:\n",
      "suitflag\n",
      "convert to Float columns:\n",
      "stockprice\n",
      "| Add date features...\n",
      "| - Add month of the year...\n",
      "| - Add day of the week...\n"
     ]
    },
    {
     "name": "stderr",
     "output_type": "stream",
     "text": [
      "code/refactor/common.py:1363: SettingWithCopyWarning: \n",
      "A value is trying to be set on a copy of a slice from a DataFrame.\n",
      "Try using .loc[row_indexer,col_indexer] = value instead\n",
      "\n",
      "See the caveats in the documentation: http://pandas.pydata.org/pandas-docs/stable/indexing.html#indexing-view-versus-copy\n",
      "  + df_past[similarLevels[2]]\n",
      "code/refactor/common.py:1364: SettingWithCopyWarning: \n",
      "A value is trying to be set on a copy of a slice from a DataFrame.\n",
      "Try using .loc[row_indexer,col_indexer] = value instead\n",
      "\n",
      "See the caveats in the documentation: http://pandas.pydata.org/pandas-docs/stable/indexing.html#indexing-view-versus-copy\n",
      "  df_past['SyntheticPromotionSubType'] = df_past['SyntheticPromotionSubType'].fillna(0.0)\n"
     ]
    },
    {
     "name": "stdout",
     "output_type": "stream",
     "text": [
      "| - group by SyntheticPromotionSubType...\n"
     ]
    },
    {
     "name": "stderr",
     "output_type": "stream",
     "text": [
      "predict_mean_zero.py:454: SettingWithCopyWarning: \n",
      "A value is trying to be set on a copy of a slice from a DataFrame.\n",
      "Try using .loc[row_indexer,col_indexer] = value instead\n",
      "\n",
      "See the caveats in the documentation: http://pandas.pydata.org/pandas-docs/stable/indexing.html#indexing-view-versus-copy\n",
      "  pred_df['ypred'] =ypred\n",
      "predict_mean_zero.py:455: SettingWithCopyWarning: \n",
      "A value is trying to be set on a copy of a slice from a DataFrame.\n",
      "Try using .loc[row_indexer,col_indexer] = value instead\n",
      "\n",
      "See the caveats in the documentation: http://pandas.pydata.org/pandas-docs/stable/indexing.html#indexing-view-versus-copy\n",
      "  pred_df['RDCKey'] = rdc\n",
      "/home/ubuntu/lijingjie/ljj/local/lib/python2.7/site-packages/pandas/core/indexing.py:537: SettingWithCopyWarning: \n",
      "A value is trying to be set on a copy of a slice from a DataFrame.\n",
      "Try using .loc[row_indexer,col_indexer] = value instead\n",
      "\n",
      "See the caveats in the documentation: http://pandas.pydata.org/pandas-docs/stable/indexing.html#indexing-view-versus-copy\n",
      "  self.obj[item] = s\n"
     ]
    },
    {
     "name": "stdout",
     "output_type": "stream",
     "text": [
      "2018-05-07 00:00:00\n",
      "convert to Int columns:\n",
      "Holiday\n",
      "convert to Int columns:\n",
      "Ind_1111_pre\n",
      "convert to Int columns:\n",
      "Ind_1111\n",
      "convert to Int columns:\n",
      "Ind_1111_post\n",
      "convert to Int columns:\n",
      "Ind_618_pre\n",
      "convert to Int columns:\n",
      "Ind_618\n",
      "convert to Int columns:\n",
      "Ind_618_post\n",
      "convert to Int columns:\n",
      "Ind_1212\n",
      "convert to Float columns:\n",
      "MaxSyntheticDiscountA\n",
      "convert to Float columns:\n",
      "MinSyntheticDiscountA\n",
      "convert to Float columns:\n",
      "AvgSyntheticDiscountA\n",
      "convert to Float columns:\n",
      "SyntheticGrossPrice\n",
      "convert to Float columns:\n",
      "promotionkey\n",
      "convert to Float columns:\n",
      "promotiontype\n",
      "convert to Float columns:\n",
      "promotionsubtype\n",
      "convert to Float columns:\n",
      "syntheticgrossprice_vb\n",
      "convert to Float columns:\n",
      "jdprice\n",
      "convert to Float columns:\n",
      "syntheticdiscounta_vb\n",
      "convert to Float columns:\n",
      "durationinhours\n",
      "convert to Float columns:\n",
      "daynumberinpromotion\n",
      "convert to Float columns:\n",
      "bundleflag\n",
      "convert to Float columns:\n",
      "directdiscountflag\n",
      "convert to Float columns:\n",
      "freegiftflag\n",
      "convert to Float columns:\n",
      "suitflag\n",
      "convert to Float columns:\n",
      "stockprice\n",
      "| Add date features...\n",
      "| - Add month of the year...\n",
      "| - Add day of the week...\n",
      "| - group by SyntheticPromotionSubType...\n",
      "2018-05-07 00:00:00\n",
      "convert to Int columns:\n",
      "Holiday\n",
      "convert to Int columns:\n",
      "Ind_1111_pre\n",
      "convert to Int columns:\n",
      "Ind_1111\n",
      "convert to Int columns:\n",
      "Ind_1111_post\n",
      "convert to Int columns:\n",
      "Ind_618_pre\n",
      "convert to Int columns:\n",
      "Ind_618\n",
      "convert to Int columns:\n",
      "Ind_618_post\n",
      "convert to Int columns:\n",
      "Ind_1212\n",
      "convert to Float columns:\n",
      "MaxSyntheticDiscountA\n",
      "convert to Float columns:\n",
      "MinSyntheticDiscountA\n",
      "convert to Float columns:\n",
      "AvgSyntheticDiscountA\n",
      "convert to Float columns:\n",
      "SyntheticGrossPrice\n",
      "convert to Float columns:\n",
      "promotionkey\n",
      "convert to Float columns:\n",
      "promotiontype\n",
      "convert to Float columns:\n",
      "promotionsubtype\n",
      "convert to Float columns:\n",
      "syntheticgrossprice_vb\n",
      "convert to Float columns:\n",
      "jdprice\n",
      "convert to Float columns:\n",
      "syntheticdiscounta_vb\n",
      "convert to Float columns:\n",
      "durationinhours\n",
      "convert to Float columns:\n",
      "daynumberinpromotion\n",
      "convert to Float columns:\n",
      "bundleflag\n",
      "convert to Float columns:\n",
      "directdiscountflag\n",
      "convert to Float columns:\n",
      "freegiftflag\n",
      "convert to Float columns:\n",
      "suitflag\n",
      "convert to Float columns:\n",
      "stockprice\n",
      "| Add date features...\n",
      "| - Add month of the year...\n",
      "| - Add day of the week...\n",
      "| - group by SyntheticPromotionSubType...\n"
     ]
    }
   ],
   "source": [
    "for cate in cate_list:\n",
    "    pro_canlender_path = os.path.join(path, str(cate)+'/'+str(cate)+'_'+'p2.da')\n",
    "    promoCalendarDf = pd.read_csv(pro_canlender_path,sep='\\t',header=None)\n",
    "    promoCalendarDf.columns=['ProductKey', 'Date', 'HierarchyLevel3Key', 'PromotionCount', 'bundlecount', 'MaxDiscount', 'MinDiscount', 'AvgDiscount', 'MaxSyntheticDiscountA',\n",
    "\t       'MinSyntheticDiscountA', 'AvgSyntheticDiscountA', 'MaxBundleDiscount', 'MinBundleDiscount', 'AvgBundleDiscount', 'MaxDirectDiscount', 'MinDirectDiscount',\n",
    "\t       'AvgDirectDiscount', 'MaxFreegiftDiscount', 'MinFreegiftDiscount', 'AvgFreegiftDiscount', 'SyntheticGrossPrice', 'promotionkey', 'promotiontype',\n",
    "\t       'promotionsubtype', 'syntheticgrossprice_vb', 'jdprice', 'syntheticdiscounta_vb', 'durationinhours', 'daynumberinpromotion', 'bundleflag', 'directdiscountflag',\n",
    "\t       'freegiftflag', 'suitflag', 'numberproducts', 'numberhierarchylevel1', 'numberhierarchylevel2', 'numberhierarchylevel3', 'strongmark', 'stockprice', 'dt']\n",
    "\n",
    "    p1_out_path = os.path.join(path, str(cate)+'/'+'predict'+'_p1_'+str(cate)+'.csv')\n",
    "    period_promo_raw = pd.read_csv(p1_out_path,parse_dates=['Date'])\n",
    "\n",
    "    file_path = file_path = os.path.join(path, str(cate)+'/'+str(cate)+'_'+'ts.da')\n",
    "    ts_df = pd.read_csv(file_path,header=None,sep='\\t')\n",
    "\n",
    "    model_path = os.path.join(result_path, str(cate)+'/'+str(cate)+'_train_model.pkl')\n",
    "    with open(model_path,'r') as input:\n",
    "        model = pickle.load(input)\n",
    "\n",
    "    seasonality_df = pd.read_csv('tmp/data/870_season.csv', parse_dates=['Date'])\n",
    "\n",
    "    if cate in [2589]:\n",
    "\tpred_date = pd.to_datetime('2018-04-01')\n",
    "\tscenario['lookforwardPeriodDays'] = 7\n",
    "    elif cate in [2584,12029]:\n",
    "\tpred_date = pd.to_datetime('2018-05-07')\n",
    "\tscenario['lookforwardPeriodDays'] = 7\n",
    "    else:\n",
    "\tpred_date = pd.to_datetime('2018-02-01')\n",
    "\tscenario['lookforwardPeriodDays'] = 10\n",
    "    print pred_date\n",
    "    train_feature_path = os.path.join(result_path, str(cate) + '/' + str(cate) + '_train_feature.csv')\n",
    "    result,df_fut=predict_mean.predict(area_rdc_map,period_promo_raw,promoCalendarDf,ts_df,scenario,holidays_df,model,seasonality_df,process_f01_flag=False,mode='dev',ForecastStartDate=pred_date,train_path=train_feature_path)\n",
    "  #result.to_csv('tmp/data/0425_result/'+'result_'+str(cate)+'.csv',index=False)\n",
    "    result.to_csv('tmp/data/shishang/result/'+'result_'+str(cate)+'_mean.csv',index=False)\n"
   ]
  },
  {
   "cell_type": "code",
   "execution_count": 6,
   "metadata": {},
   "outputs": [
    {
     "data": {
      "text/plain": [
       "Timestamp('2018-05-07 00:00:00')"
      ]
     },
     "execution_count": 6,
     "metadata": {},
     "output_type": "execute_result"
    }
   ],
   "source": [
    "pred_date"
   ]
  },
  {
   "cell_type": "code",
   "execution_count": null,
   "metadata": {},
   "outputs": [],
   "source": []
  }
 ],
 "metadata": {
  "kernelspec": {
   "display_name": "Python 2",
   "language": "python",
   "name": "python2"
  },
  "language_info": {
   "codemirror_mode": {
    "name": "ipython",
    "version": 2
   },
   "file_extension": ".py",
   "mimetype": "text/x-python",
   "name": "python",
   "nbconvert_exporter": "python",
   "pygments_lexer": "ipython2",
   "version": "2.7.6"
  }
 },
 "nbformat": 4,
 "nbformat_minor": 2
}
