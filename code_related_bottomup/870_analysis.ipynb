{
 "cells": [
  {
   "cell_type": "code",
   "execution_count": 1,
   "metadata": {},
   "outputs": [],
   "source": [
    " import pandas as pd"
   ]
  },
  {
   "cell_type": "code",
   "execution_count": 68,
   "metadata": {},
   "outputs": [],
   "source": [
    "raw = pd.read_csv('tmp/data/0425_result/result_870_mean_promo_with_season_180201_0515.csv')\n",
    "ts = pd.read_csv('tmp/data/simplified_ts_870.csv')"
   ]
  },
  {
   "cell_type": "code",
   "execution_count": 37,
   "metadata": {},
   "outputs": [],
   "source": [
    "file_path = 'tmp/data/870_ts.da'\n",
    "ts_df = pd.read_csv(file_path,header=None,sep='\\t')\n",
    "ts_df.columns = ['Date', 'ind', 'RDCKey', 'ProductKey', 'HierarchyLevel1Key', 'HierarchyLevel2Key', 'HierarchyLevel3Key', 'brand_code', 'sales', 'priceAfterDiscount', 'jd_prc', 'vendibility', 'counterState', 'salesForecast', 'reserveState', 'stockQuantity', 'utc_flag']\n",
    "\n",
    "sum_df = ts_df.groupby(['Date'])['salesForecast'].sum().reset_index()\n",
    "\n",
    "sum_df.Date = pd.to_datetime(sum_df.Date)\n",
    "\n",
    "tmp_sum_df = sum_df[sum_df.Date > '2016-02-01']\n",
    "\n",
    "tmp_sum_df.set_index('Date').plot()\n",
    "\n",
    "tmp1 = ts_df.loc[ts_df.ProductKey==3487477,['Date','RDCKey','ProductKey','salesForecast','priceAfterDiscount','jd_prc']]\n",
    "\n",
    "tmp1.head()\n",
    "\n",
    "from collections import OrderedDict\n",
    "tmp2 = tmp1.groupby(['Date','ProductKey']).agg(OrderedDict([('priceAfterDiscount', np.min),('jd_prc', np.min),('salesForecast',np.sum)])).reset_index()\n",
    "\n",
    "tmp2.Date = pd.to_datetime(tmp2.Date)\n",
    "\n",
    "tmp2[tmp2.Date.between('2017-05-01','2017-07-01')]\n",
    "\n",
    "tmp2[['Date','salesForecast']].set_index('Date').plot()"
   ]
  },
  {
   "cell_type": "code",
   "execution_count": 69,
   "metadata": {},
   "outputs": [],
   "source": [
    "df1 = raw.groupby(['Date','ProductKey'])['salesForecast','ypred'].sum().reset_index()\n",
    "actual = ts.groupby(['Date','ProductKey'])['salesForecast'].sum().reset_index()"
   ]
  },
  {
   "cell_type": "code",
   "execution_count": 79,
   "metadata": {},
   "outputs": [],
   "source": [
    "df11 = pd.merge(df1[['Date','ProductKey','ypred']],actual,how='left',on=['Date','ProductKey'])"
   ]
  },
  {
   "cell_type": "code",
   "execution_count": 86,
   "metadata": {},
   "outputs": [],
   "source": [
    "df = df11.groupby('ProductKey').sum().reset_index()"
   ]
  },
  {
   "cell_type": "code",
   "execution_count": 72,
   "metadata": {},
   "outputs": [],
   "source": [
    " import numpy as np"
   ]
  },
  {
   "cell_type": "code",
   "execution_count": 89,
   "metadata": {},
   "outputs": [
    {
     "data": {
      "text/plain": [
       "38333.629781408265"
      ]
     },
     "execution_count": 89,
     "metadata": {},
     "output_type": "execute_result"
    }
   ],
   "source": [
    "df.ypred.sum()"
   ]
  },
  {
   "cell_type": "code",
   "execution_count": 90,
   "metadata": {},
   "outputs": [
    {
     "data": {
      "text/plain": [
       "27797.0"
      ]
     },
     "execution_count": 90,
     "metadata": {},
     "output_type": "execute_result"
    }
   ],
   "source": [
    "df.salesForecast.sum()"
   ]
  },
  {
   "cell_type": "code",
   "execution_count": 87,
   "metadata": {},
   "outputs": [],
   "source": [
    "df['resi'] = np.abs(df.ypred - df.salesForecast)"
   ]
  },
  {
   "cell_type": "code",
   "execution_count": 88,
   "metadata": {},
   "outputs": [
    {
     "data": {
      "text/plain": [
       "0.5160816401718017"
      ]
     },
     "execution_count": 88,
     "metadata": {},
     "output_type": "execute_result"
    }
   ],
   "source": [
    "df.resi.sum() / df.salesForecast.sum()"
   ]
  },
  {
   "cell_type": "code",
   "execution_count": 74,
   "metadata": {},
   "outputs": [],
   "source": [
    "df.sort_values(by='resi',inplace=True, ascending=False)"
   ]
  },
  {
   "cell_type": "code",
   "execution_count": 75,
   "metadata": {},
   "outputs": [],
   "source": [
    "df.reset_index(inplace=True)"
   ]
  },
  {
   "cell_type": "code",
   "execution_count": 76,
   "metadata": {},
   "outputs": [
    {
     "data": {
      "text/html": [
       "<div>\n",
       "<style scoped>\n",
       "    .dataframe tbody tr th:only-of-type {\n",
       "        vertical-align: middle;\n",
       "    }\n",
       "\n",
       "    .dataframe tbody tr th {\n",
       "        vertical-align: top;\n",
       "    }\n",
       "\n",
       "    .dataframe thead th {\n",
       "        text-align: right;\n",
       "    }\n",
       "</style>\n",
       "<table border=\"1\" class=\"dataframe\">\n",
       "  <thead>\n",
       "    <tr style=\"text-align: right;\">\n",
       "      <th></th>\n",
       "      <th>index</th>\n",
       "      <th>ProductKey</th>\n",
       "      <th>ypred</th>\n",
       "      <th>salesForecast</th>\n",
       "      <th>resi</th>\n",
       "    </tr>\n",
       "  </thead>\n",
       "  <tbody>\n",
       "    <tr>\n",
       "      <th>0</th>\n",
       "      <td>225</td>\n",
       "      <td>1311928</td>\n",
       "      <td>1705.373243</td>\n",
       "      <td>654.0</td>\n",
       "      <td>1051.373243</td>\n",
       "    </tr>\n",
       "    <tr>\n",
       "      <th>1</th>\n",
       "      <td>314</td>\n",
       "      <td>1887255</td>\n",
       "      <td>1087.445195</td>\n",
       "      <td>503.0</td>\n",
       "      <td>584.445195</td>\n",
       "    </tr>\n",
       "    <tr>\n",
       "      <th>2</th>\n",
       "      <td>649</td>\n",
       "      <td>2743359</td>\n",
       "      <td>857.095052</td>\n",
       "      <td>284.0</td>\n",
       "      <td>573.095052</td>\n",
       "    </tr>\n",
       "    <tr>\n",
       "      <th>3</th>\n",
       "      <td>372</td>\n",
       "      <td>1993070</td>\n",
       "      <td>1161.682821</td>\n",
       "      <td>673.0</td>\n",
       "      <td>488.682821</td>\n",
       "    </tr>\n",
       "    <tr>\n",
       "      <th>4</th>\n",
       "      <td>750</td>\n",
       "      <td>2942414</td>\n",
       "      <td>700.379608</td>\n",
       "      <td>330.0</td>\n",
       "      <td>370.379608</td>\n",
       "    </tr>\n",
       "    <tr>\n",
       "      <th>5</th>\n",
       "      <td>374</td>\n",
       "      <td>1993087</td>\n",
       "      <td>1480.252188</td>\n",
       "      <td>1120.0</td>\n",
       "      <td>360.252188</td>\n",
       "    </tr>\n",
       "    <tr>\n",
       "      <th>6</th>\n",
       "      <td>376</td>\n",
       "      <td>1993089</td>\n",
       "      <td>1050.479844</td>\n",
       "      <td>742.0</td>\n",
       "      <td>308.479844</td>\n",
       "    </tr>\n",
       "    <tr>\n",
       "      <th>7</th>\n",
       "      <td>648</td>\n",
       "      <td>2743357</td>\n",
       "      <td>388.734286</td>\n",
       "      <td>126.0</td>\n",
       "      <td>262.734286</td>\n",
       "    </tr>\n",
       "    <tr>\n",
       "      <th>8</th>\n",
       "      <td>477</td>\n",
       "      <td>2215796</td>\n",
       "      <td>488.255402</td>\n",
       "      <td>229.0</td>\n",
       "      <td>259.255402</td>\n",
       "    </tr>\n",
       "    <tr>\n",
       "      <th>9</th>\n",
       "      <td>779</td>\n",
       "      <td>3082122</td>\n",
       "      <td>1274.799469</td>\n",
       "      <td>1524.0</td>\n",
       "      <td>249.200531</td>\n",
       "    </tr>\n",
       "    <tr>\n",
       "      <th>10</th>\n",
       "      <td>751</td>\n",
       "      <td>2942418</td>\n",
       "      <td>328.791512</td>\n",
       "      <td>101.0</td>\n",
       "      <td>227.791512</td>\n",
       "    </tr>\n",
       "    <tr>\n",
       "      <th>11</th>\n",
       "      <td>422</td>\n",
       "      <td>2100472</td>\n",
       "      <td>408.930018</td>\n",
       "      <td>192.0</td>\n",
       "      <td>216.930018</td>\n",
       "    </tr>\n",
       "    <tr>\n",
       "      <th>12</th>\n",
       "      <td>257</td>\n",
       "      <td>1361956</td>\n",
       "      <td>654.942313</td>\n",
       "      <td>439.0</td>\n",
       "      <td>215.942313</td>\n",
       "    </tr>\n",
       "  </tbody>\n",
       "</table>\n",
       "</div>"
      ],
      "text/plain": [
       "    index  ProductKey        ypred  salesForecast         resi\n",
       "0     225     1311928  1705.373243          654.0  1051.373243\n",
       "1     314     1887255  1087.445195          503.0   584.445195\n",
       "2     649     2743359   857.095052          284.0   573.095052\n",
       "3     372     1993070  1161.682821          673.0   488.682821\n",
       "4     750     2942414   700.379608          330.0   370.379608\n",
       "5     374     1993087  1480.252188         1120.0   360.252188\n",
       "6     376     1993089  1050.479844          742.0   308.479844\n",
       "7     648     2743357   388.734286          126.0   262.734286\n",
       "8     477     2215796   488.255402          229.0   259.255402\n",
       "9     779     3082122  1274.799469         1524.0   249.200531\n",
       "10    751     2942418   328.791512          101.0   227.791512\n",
       "11    422     2100472   408.930018          192.0   216.930018\n",
       "12    257     1361956   654.942313          439.0   215.942313"
      ]
     },
     "execution_count": 76,
     "metadata": {},
     "output_type": "execute_result"
    }
   ],
   "source": [
    "df.head(13)"
   ]
  },
  {
   "cell_type": "code",
   "execution_count": 25,
   "metadata": {},
   "outputs": [
    {
     "data": {
      "text/plain": [
       "<matplotlib.axes._subplots.AxesSubplot at 0x7f481fd422d0>"
      ]
     },
     "execution_count": 25,
     "metadata": {},
     "output_type": "execute_result"
    },
    {
     "data": {
      "image/png": "[encoded data removed]",
      "text/plain": [
       "<Figure size 432x288 with 1 Axes>"
      ]
     },
     "metadata": {},
     "output_type": "display_data"
    }
   ],
   "source": [
    "tmp[['Date','salesForecast']].set_index('Date').plot()"
   ]
  },
  {
   "cell_type": "code",
   "execution_count": null,
   "metadata": {},
   "outputs": [],
   "source": []
  }
 ],
 "metadata": {
  "kernelspec": {
   "display_name": "Python 2",
   "language": "python",
   "name": "python2"
  },
  "language_info": {
   "codemirror_mode": {
    "name": "ipython",
    "version": 2
   },
   "file_extension": ".py",
   "mimetype": "text/x-python",
   "name": "python",
   "nbconvert_exporter": "python",
   "pygments_lexer": "ipython2",
   "version": "2.7.6"
  }
 },
 "nbformat": 4,
 "nbformat_minor": 2
}
